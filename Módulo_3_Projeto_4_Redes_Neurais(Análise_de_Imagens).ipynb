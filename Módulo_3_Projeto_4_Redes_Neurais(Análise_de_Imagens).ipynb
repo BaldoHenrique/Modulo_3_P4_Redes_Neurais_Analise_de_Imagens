{
  "nbformat": 4,
  "nbformat_minor": 0,
  "metadata": {
    "colab": {
      "name": "Módulo 3 - Projeto 4- Redes Neurais(Análise de Imagens)",
      "provenance": [],
      "collapsed_sections": []
    },
    "kernelspec": {
      "name": "python3",
      "display_name": "Python 3"
    },
    "language_info": {
      "name": "python"
    },
    "accelerator": "GPU",
    "gpuClass": "standard"
  },
  "cells": [
    {
      "cell_type": "markdown",
      "source": [
        "# Projeto 4 - Analise de folhas de videira\n",
        "**Entrega**\n",
        "\n",
        "O projeto deve ser entregue até a terça-feira da 5ª semana de aula, envie o link do GitHub ou HTML na atividade no Moodle.\n",
        "\n",
        "O prazo máximo é quarta-feira da 5ª semana de aula, valendo 20% a menos da nota."
      ],
      "metadata": {
        "id": "LroLrpMRqw7F"
      }
    },
    {
      "cell_type": "markdown",
      "source": [
        "**Dados do Certificado**\n",
        "\n",
        "Linguagem: Python\n",
        "\n",
        "Tecnologias: Pandas, Numpy, Tensorflow, Keras, PIL, Matplotlib e Sklearn\n",
        "\n",
        "Carga horária: 20 horas"
      ],
      "metadata": {
        "id": "OE5h_1zbq32-"
      }
    },
    {
      "cell_type": "markdown",
      "source": [
        "**Grapevine Leaves Image Dataset - Kaggle**\n",
        "\n",
        "Vamos trabalhar com imagens de folhas de uvas que são usadas para vinho."
      ],
      "metadata": {
        "id": "872VTQsHq723"
      }
    },
    {
      "cell_type": "markdown",
      "source": [
        "**Sobre este projeto**\n",
        "\n",
        "Os principais pontos que serão avaliados:\n",
        "- Levantamento de hipóteses\n",
        "- Manipulação de imagens\n",
        "- Criar um modelo de classificação"
      ],
      "metadata": {
        "id": "Ixj1MnVst2Ww"
      }
    },
    {
      "cell_type": "markdown",
      "source": [
        "**Preparação do ambiente**\n",
        "\n",
        "Faça o download e carregue o dataset Grapevine Leaves Image Dataset."
      ],
      "metadata": {
        "id": "98uwwIO4t7wQ"
      }
    },
    {
      "cell_type": "code",
      "source": [
        "import numpy as np\n",
        "import pandas as pd\n",
        "import matplotlib.pyplot as plt\n",
        "import zipfile\n",
        "from PIL import Image\n",
        "\n",
        "from keras.datasets import cifar10\n",
        "from tensorflow.keras.models import Model\n",
        "from tensorflow.keras.applications import resnet50, VGG19\n",
        "\n",
        "from sklearn.tree import DecisionTreeClassifier\n",
        "from sklearn.naive_bayes import GaussianNB, MultinomialNB, BernoulliNB\n"
      ],
      "metadata": {
        "id": "-5iXmJRsncyj"
      },
      "execution_count": null,
      "outputs": []
    },
    {
      "cell_type": "code",
      "source": [
        "from tensorflow import keras\n",
        "import tensorflow as tf\n",
        "import keras.backend as K\n",
        "from tensorflow.keras.preprocessing.image import ImageDataGenerator\n",
        "from tensorflow.keras.models import Sequential\n",
        "from tensorflow.keras.layers import InputLayer, BatchNormalization, Dropout, Flatten, Dense, Activation, MaxPool2D, Conv2D\n",
        "from tensorflow.keras.layers import Conv2D, Dense, Flatten, Dropout, Activation\n",
        "from tensorflow.keras.layers import BatchNormalization, Reshape, MaxPooling2D, GlobalAveragePooling2D\n",
        "from tensorflow.keras.callbacks import EarlyStopping, ModelCheckpoint, ReduceLROnPlateau\n",
        "\n",
        "from PIL import Image\n",
        "from PIL import UnidentifiedImageError\n",
        "\n",
        "from sklearn.preprocessing import OneHotEncoder\n",
        "\n",
        "from sklearn.model_selection import train_test_split\n",
        "\n",
        "from sklearn.model_selection import KFold, StratifiedKFold   \n",
        "from sklearn.model_selection import cross_val_score, cross_val_predict\n",
        "from sklearn.metrics import accuracy_score, r2_score\n",
        "\n",
        "from sklearn.metrics import classification_report, confusion_matrix\n",
        "import itertools\n",
        "\n",
        "import warnings\n",
        "warnings.filterwarnings('ignore')"
      ],
      "metadata": {
        "id": "qemfZ3CMnfwF"
      },
      "execution_count": null,
      "outputs": []
    },
    {
      "cell_type": "markdown",
      "source": [
        "#Exercícios#\n",
        "##Questão 1) Implemente uma rotina de carregamento das imagens (2 pontos)"
      ],
      "metadata": {
        "id": "6v6W_ekiv6di"
      }
    },
    {
      "cell_type": "markdown",
      "source": [
        "Os datasets das imagens vem de arquivos 'zip', então usaremos o código abaixo para carregar."
      ],
      "metadata": {
        "id": "rY6qjVkeCpbc"
      }
    },
    {
      "cell_type": "code",
      "source": [
        "imgzip_Ak = zipfile.ZipFile(\"/content/Ak.zip\")\n",
        "Ak = imgzip_Ak.infolist()\n",
        "imgzip_Ala_Idris = zipfile.ZipFile(\"/content/Ala_Idris.zip\")\n",
        "Ala_Idris = imgzip_Ala_Idris.infolist()\n",
        "imgzip_Buzgulu = zipfile.ZipFile(\"/content/Buzgulu.zip\")\n",
        "Buzgulu = imgzip_Buzgulu.infolist()\n",
        "imgzip_Dimnit = zipfile.ZipFile(\"/content/Dimnit.zip\")\n",
        "Dimnit = imgzip_Dimnit.infolist()\n",
        "imgzip_Nazli = zipfile.ZipFile(\"/content/Nazli.zip\")\n",
        "Nazli = imgzip_Nazli.infolist()"
      ],
      "metadata": {
        "id": "Z60ziT0znwu0"
      },
      "execution_count": null,
      "outputs": []
    },
    {
      "cell_type": "markdown",
      "source": [
        "Essa será a legenda usada para os nossos rótulos, cada número faz referência a um tipo de folha de uva, confome lista abaixo:"
      ],
      "metadata": {
        "id": "RJBdK-5rC-6a"
      }
    },
    {
      "cell_type": "markdown",
      "source": [
        "Ak - 0\n",
        "\n",
        "Ala_Idris - 1\n",
        "\n",
        "Buzgulu - 2\n",
        "\n",
        "Dimnit - 3\n",
        "\n",
        "Nazli - 4"
      ],
      "metadata": {
        "id": "GzRunxD2oZwx"
      }
    },
    {
      "cell_type": "markdown",
      "source": [
        "##Questão 2) Faça a leitura das imagens e responda (2 pontos):\n",
        "\n",
        "**a) Qual a resolução das imagens deste dataset? (0,5 ponto)**\n",
        "\n",
        "**b) Quantas imagens por classe? (1,0 ponto)**\n",
        "\n",
        "**c) Este dataset já está estruturado em conjuntos treinamento/teste ou deve-se adotar alguma metodologia na modelagem? (0,5 ponto)**"
      ],
      "metadata": {
        "id": "p85DtzqNwJWS"
      }
    },
    {
      "cell_type": "code",
      "source": [
        "img_w, img_h = 224, 224\n",
        "X = []\n",
        "y = []"
      ],
      "metadata": {
        "id": "Dt0yAUCWoZRy"
      },
      "execution_count": null,
      "outputs": []
    },
    {
      "cell_type": "code",
      "source": [
        "for f in Ak:\n",
        "    ifile = imgzip_Ak.open(f)\n",
        "    img_b = Image.open(ifile).convert('RGB')\n",
        "    img = img_b.resize((img_w,img_h))\n",
        "    X.append(np.asarray(img))\n",
        "    y.append(0)\n",
        "print(img_b)\n",
        "print(img)\n",
        "    #display(img)"
      ],
      "metadata": {
        "colab": {
          "base_uri": "https://localhost:8080/"
        },
        "id": "r0mo3oLhooeI",
        "outputId": "9844d3ff-bbbd-4d2e-9e75-58fcf031feb1"
      },
      "execution_count": null,
      "outputs": [
        {
          "output_type": "stream",
          "name": "stdout",
          "text": [
            "<PIL.Image.Image image mode=RGB size=511x511 at 0x7FB83A188A50>\n",
            "<PIL.Image.Image image mode=RGB size=224x224 at 0x7FB8C01B9950>\n"
          ]
        }
      ]
    },
    {
      "cell_type": "code",
      "source": [
        "for f in Ala_Idris:\n",
        "    ifile = imgzip_Ala_Idris.open(f)\n",
        "    img_b = Image.open(ifile).convert('RGB')\n",
        "    img = img_b.resize((img_w,img_h))\n",
        "    X.append(np.asarray(img))\n",
        "    y.append(1)\n",
        "print(img_b)\n",
        "print(img)"
      ],
      "metadata": {
        "colab": {
          "base_uri": "https://localhost:8080/"
        },
        "id": "r7zTg3qlosVE",
        "outputId": "5018826e-db04-4143-b4f7-30ad652f3b4d"
      },
      "execution_count": null,
      "outputs": [
        {
          "output_type": "stream",
          "name": "stdout",
          "text": [
            "<PIL.Image.Image image mode=RGB size=511x511 at 0x7FB8CBE67CD0>\n",
            "<PIL.Image.Image image mode=RGB size=224x224 at 0x7FB8CBEC3650>\n"
          ]
        }
      ]
    },
    {
      "cell_type": "code",
      "source": [
        "for f in Buzgulu:\n",
        "    ifile = imgzip_Buzgulu.open(f)\n",
        "    img_b = Image.open(ifile).convert('RGB')\n",
        "    img = img_b.resize((img_w,img_h))\n",
        "    X.append(np.asarray(img))\n",
        "    y.append(2)\n",
        "print(img_b)\n",
        "print(img)"
      ],
      "metadata": {
        "colab": {
          "base_uri": "https://localhost:8080/"
        },
        "id": "C6nz8Y-wosnI",
        "outputId": "672e8498-24f5-44d5-afb9-c1e6bd3558d0"
      },
      "execution_count": null,
      "outputs": [
        {
          "output_type": "stream",
          "name": "stdout",
          "text": [
            "<PIL.Image.Image image mode=RGB size=511x511 at 0x7FB84E18FBD0>\n",
            "<PIL.Image.Image image mode=RGB size=224x224 at 0x7FB83A0E7390>\n"
          ]
        }
      ]
    },
    {
      "cell_type": "code",
      "source": [
        "for f in Dimnit:\n",
        "    ifile = imgzip_Dimnit.open(f)\n",
        "    img_b = Image.open(ifile).convert('RGB')\n",
        "    img = img_b.resize((img_w,img_h))\n",
        "    X.append(np.asarray(img))\n",
        "    y.append(3)\n",
        "print(img_b)\n",
        "print(img)"
      ],
      "metadata": {
        "colab": {
          "base_uri": "https://localhost:8080/"
        },
        "id": "idOld7mXos37",
        "outputId": "038613a2-0d96-40af-bdf2-d6b5ec9f46ba"
      },
      "execution_count": null,
      "outputs": [
        {
          "output_type": "stream",
          "name": "stdout",
          "text": [
            "<PIL.Image.Image image mode=RGB size=511x511 at 0x7FB83A023E10>\n",
            "<PIL.Image.Image image mode=RGB size=224x224 at 0x7FB83A1A1950>\n"
          ]
        }
      ]
    },
    {
      "cell_type": "code",
      "source": [
        "for f in Nazli:\n",
        "    ifile = imgzip_Nazli.open(f)\n",
        "    img_b = Image.open(ifile).convert('RGB')\n",
        "    img = img_b.resize((img_w,img_h))\n",
        "    X.append(np.asarray(img))\n",
        "    y.append(4)\n",
        "print(img_b)\n",
        "print(img)"
      ],
      "metadata": {
        "colab": {
          "base_uri": "https://localhost:8080/"
        },
        "id": "7-nZSaL6otEe",
        "outputId": "c486a55b-33b2-428b-fa97-e0614d91a290"
      },
      "execution_count": null,
      "outputs": [
        {
          "output_type": "stream",
          "name": "stdout",
          "text": [
            "<PIL.Image.Image image mode=RGB size=511x511 at 0x7FB83A16C1D0>\n",
            "<PIL.Image.Image image mode=RGB size=224x224 at 0x7FB84E1B7750>\n"
          ]
        }
      ]
    },
    {
      "cell_type": "code",
      "source": [
        "X = np.array(X)\n",
        "X.shape"
      ],
      "metadata": {
        "colab": {
          "base_uri": "https://localhost:8080/"
        },
        "id": "2BUeEp1gqHMq",
        "outputId": "27aa4e5f-98e4-498d-91d2-1427a8d3709e"
      },
      "execution_count": null,
      "outputs": [
        {
          "output_type": "execute_result",
          "data": {
            "text/plain": [
              "(500, 224, 224, 3)"
            ]
          },
          "metadata": {},
          "execution_count": 76
        }
      ]
    },
    {
      "cell_type": "code",
      "source": [
        "y = np.array(y)\n",
        "y.shape"
      ],
      "metadata": {
        "colab": {
          "base_uri": "https://localhost:8080/"
        },
        "id": "j0jzpvnkqInu",
        "outputId": "fa665f3c-eab8-48c0-aecf-b553580038da"
      },
      "execution_count": null,
      "outputs": [
        {
          "output_type": "execute_result",
          "data": {
            "text/plain": [
              "(500,)"
            ]
          },
          "metadata": {},
          "execution_count": 77
        }
      ]
    },
    {
      "cell_type": "markdown",
      "source": [
        "**a) Qual a resolução das imagens deste dataset? (0,5 ponto)**"
      ],
      "metadata": {
        "id": "P6jIitlRwDCG"
      }
    },
    {
      "cell_type": "code",
      "source": [
        "print('A resolução original do dataset:',img_b.size)\n",
        "print('A resolução que utilizaremos:',img.size)"
      ],
      "metadata": {
        "colab": {
          "base_uri": "https://localhost:8080/"
        },
        "id": "RGK9JDD3xhUh",
        "outputId": "4f73a75d-baac-4c07-a6cf-e78312d2879c"
      },
      "execution_count": null,
      "outputs": [
        {
          "output_type": "stream",
          "name": "stdout",
          "text": [
            "A resolução original do dataset: (511, 511)\n",
            "A resolução que utilizaremos: (224, 224)\n"
          ]
        }
      ]
    },
    {
      "cell_type": "markdown",
      "source": [
        "**b) Quantas imagens por classe? (1,0 ponto)**\n"
      ],
      "metadata": {
        "id": "BTmLIWL5yOFw"
      }
    },
    {
      "cell_type": "code",
      "source": [
        "import collections\n",
        "collections.Counter(y)"
      ],
      "metadata": {
        "colab": {
          "base_uri": "https://localhost:8080/"
        },
        "id": "4R2GSEy_yfTc",
        "outputId": "18b17f60-4172-44f9-f7f3-7f20077b7e4c"
      },
      "execution_count": null,
      "outputs": [
        {
          "output_type": "execute_result",
          "data": {
            "text/plain": [
              "Counter({0: 100, 1: 100, 2: 100, 3: 100, 4: 100})"
            ]
          },
          "metadata": {},
          "execution_count": 79
        }
      ]
    },
    {
      "cell_type": "markdown",
      "source": [
        "cada tipo de folha tem 100 imagens, logo temos um dataset bem equilibrado."
      ],
      "metadata": {
        "id": "xGje1B2GDWmz"
      }
    },
    {
      "cell_type": "markdown",
      "source": [
        "**c) Este dataset já está estruturado em conjuntos treinamento/teste ou deve-se adotar alguma metodologia na modelagem? (0,5 ponto)**"
      ],
      "metadata": {
        "id": "Hq2VGqkByPQU"
      }
    },
    {
      "cell_type": "markdown",
      "source": [
        "não, deve ser adotada uma metodologia na modelagem, que será o cross validation."
      ],
      "metadata": {
        "id": "W9BBA9jkzuHv"
      }
    },
    {
      "cell_type": "markdown",
      "source": [
        "##Questão 3) Faça a preparação do dataset para extração de características com a CNN VGG-19. \n",
        "\n",
        "**Qual o formato do input da rede?**\n",
        "\n",
        "**Verifique se há necessidade de transformação da imagem e, se sim, implemente esta transformação (1 ponto)**"
      ],
      "metadata": {
        "id": "I3xMD_f-wOc-"
      }
    },
    {
      "cell_type": "markdown",
      "source": [
        "**Qual o formato do input da rede?**"
      ],
      "metadata": {
        "id": "XzKHq6bLz_H6"
      }
    },
    {
      "cell_type": "code",
      "source": [
        "input_shape=(224, 224, 3)"
      ],
      "metadata": {
        "id": "OxOnf8gVAcuB"
      },
      "execution_count": null,
      "outputs": []
    },
    {
      "cell_type": "markdown",
      "source": [
        "**Verifique se há necessidade de transformação da imagem e, se sim, implemente esta transformação (1 ponto)**"
      ],
      "metadata": {
        "id": "io7nEjXd0ATs"
      }
    },
    {
      "cell_type": "markdown",
      "source": [
        "Houve necessidade de transformação para ter uma melhor acurácia, foi feita a transformação de 511X511 para 224X224"
      ],
      "metadata": {
        "id": "kmWNKnRmINKN"
      }
    },
    {
      "cell_type": "markdown",
      "source": [
        "##Questão 4) Implemente o processo de extração de características utilizando a VGG-19 e a transformação deste espaço de característica de forma adequada (2 pontos)"
      ],
      "metadata": {
        "id": "6j5RUonxwQKv"
      }
    },
    {
      "cell_type": "code",
      "source": [
        "print(\"Loading the VGG19-ImageNet model ...\")\n",
        "model = VGG19(include_top=True, weights='imagenet', input_shape=(224, 224, 3), classes=1000,classifier_activation=\"softmax\",pooling='max') \n",
        "model = Model(inputs=model.input, outputs=model.get_layer(index=-2).output)\n",
        "model.summary()"
      ],
      "metadata": {
        "id": "kSvhicc-z8Oq"
      },
      "execution_count": null,
      "outputs": []
    },
    {
      "cell_type": "markdown",
      "source": [
        "##Questão 5) Utilize o espaço de características:\n",
        "\n",
        "**a) Se o conjunto não estiver particionado, escolha uma técnica e justifique sua decisão. Implemente esta rotina (1 ponto)**\n",
        "\n",
        "**b) Utilize os dados com os classificadores Árvores de Decisão e Naive-Bayes. Obtenha a acurácia dos modelos e avalie os resultados (2 pontos).**"
      ],
      "metadata": {
        "id": "9nd6FY-4wRwQ"
      }
    },
    {
      "cell_type": "code",
      "source": [
        "numero_folds = 5 # número de grupo, teoricamente quanto maior melhor, porem gera muito gasto, tempo para rodar\n",
        "kf = KFold (n_splits = numero_folds, shuffle = True,random_state=10)  #esse garante que todos os grupos terão a mesma quantidade de cada tipo\n",
        "\n",
        "for train_index, test_index in kf.split(X):\n",
        " #print('TRAIN:', train_index, 'TEST:', test_index)\n",
        " X_train, X_test = X[train_index], X[test_index]\n",
        " y_train, y_test = y[train_index], y[test_index]"
      ],
      "metadata": {
        "id": "J12TE-pZz2oA"
      },
      "execution_count": null,
      "outputs": []
    },
    {
      "cell_type": "code",
      "source": [
        "prediction = np.array(model.predict(X_train))\n",
        "#X_train = np.reshape(prediction, (prediction.shape[0], (prediction.shape[1]*prediction.shape[2]*prediction.shape[3])))\n",
        "X_train = np.reshape(prediction, (prediction.shape[0], prediction.shape[1]))\n",
        "\n",
        "prediction = np.array(model.predict(X_test))\n",
        "#X_test = np.reshape(prediction, (prediction.shape[0], (prediction.shape[1]*prediction.shape[2]*prediction.shape[3])))\n",
        "X_test = np.reshape(prediction, (prediction.shape[0], prediction.shape[1]))\n",
        "\n",
        "print('\\tFeatures training shape: ', X_train.shape)\n",
        "print('\\tFeatures testing shape: ', X_test.shape)"
      ],
      "metadata": {
        "id": "lNsIIjTGAzW5",
        "colab": {
          "base_uri": "https://localhost:8080/"
        },
        "outputId": "facdffda-5591-4aeb-d01f-c7bb00fc5edf"
      },
      "execution_count": null,
      "outputs": [
        {
          "output_type": "stream",
          "name": "stdout",
          "text": [
            "\tFeatures training shape:  (400, 4096)\n",
            "\tFeatures testing shape:  (100, 4096)\n"
          ]
        }
      ]
    },
    {
      "cell_type": "markdown",
      "source": [
        "**a) Se o conjunto não estiver particionado, escolha uma técnica e justifique sua decisão. Implemente esta rotina (1 ponto)**\n",
        "\n",
        "O conjunto foi particionado utilizando a técnica de cross validation com o Kfolds igual a 5. Desta maneira o conjunto vai ser treinado e testado de 5 maneiras difententes, 5 agrupamentos. "
      ],
      "metadata": {
        "id": "9hjWl3hLEKUY"
      }
    },
    {
      "cell_type": "code",
      "source": [
        "# #aplicar PCA\n",
        "\n",
        "# from sklearn.decomposition import PCA\n",
        "\n",
        "# pca = PCA( n_components=5)\n",
        "# pca.fit(X_train)\n",
        "# print(pca.explained_variance_ratio_,pca.explained_variance_ratio_.sum())\n",
        "# X_train = pca.fit_transform(X_train)\n",
        "# X_test = pca.transform(X_test)"
      ],
      "metadata": {
        "id": "kOyfD3SnAxKa"
      },
      "execution_count": null,
      "outputs": []
    },
    {
      "cell_type": "markdown",
      "source": [
        "Deixamos o a aplicação do PCA de lado neste momentos, ela nos trouxe uma piora muito significativa, acredito que para dataset maiores seria muito útil, porém para o nosso trabalho conseguiremos trabalhar sem e ter um acurácia melhor."
      ],
      "metadata": {
        "id": "H_bI4-GHE-Dj"
      }
    },
    {
      "cell_type": "markdown",
      "source": [
        "**b) Utilize os dados com os classificadores Árvores de Decisão e Naive-Bayes. Obtenha a acurácia dos modelos e avalie os resultados (2 pontos).**"
      ],
      "metadata": {
        "id": "bWOn3SymFOA5"
      }
    },
    {
      "cell_type": "code",
      "source": [
        "print(\"Classification with Decision tree ...\")\n",
        "DecTree = DecisionTreeClassifier(max_depth=5,criterion='entropy') # criterion='entropy'\n",
        "Dtree = DecTree.fit(X_train, np.ravel(y_train, order='C'))\n",
        "#result = DecTree.predict(X_test)\n",
        "\n",
        "# acc = accuracy_score(result, y_test)\n",
        "# print(\"\\tAccuracy Decision Tree: %0.4f\" % acc)\n",
        "\n",
        "scores = cross_val_score(Dtree, X_test, y_test, cv=numero_folds)\n",
        "print('Cross-validated scores:', scores)\n",
        "print('Cross-validated scores:', scores.mean(),'+-', scores.std())"
      ],
      "metadata": {
        "id": "ljjg1w6RAwgY",
        "colab": {
          "base_uri": "https://localhost:8080/"
        },
        "outputId": "13847f55-224e-4457-9bbe-052da3e5714f"
      },
      "execution_count": null,
      "outputs": [
        {
          "output_type": "stream",
          "name": "stdout",
          "text": [
            "Classification with Decision tree ...\n",
            "Cross-validated scores: [0.55 0.4  0.55 0.45 0.5 ]\n",
            "Cross-validated scores: 0.49000000000000005 +- 0.058309518948453015\n"
          ]
        }
      ]
    },
    {
      "cell_type": "code",
      "source": [
        "print(\"Classification with Naive Bayes ...\")\n",
        "NB = MultinomialNB(alpha=1.5)\n",
        "#NB = BernoulliNB(alpha=0.1,binarize=1) # alpha=0.5  binarize=0.5\n",
        "#NB = GaussianNB()\n",
        "Nbayes = NB.fit(X_train,np.ravel(y_train, order='C'))\n",
        "#result = NB.predict(X_test)\n",
        "\n",
        "# acc = accuracy_score(result, y_test)\n",
        "# print(\"\\tAccuracy Naive Bayes: %0.4f\" % acc)\n",
        "\n",
        "scores = cross_val_score(Nbayes, X_test, y_test, cv=numero_folds)\n",
        "print('Cross-validated scores:', scores)\n",
        "print('Cross-validated scores:', scores.mean(),'+-', scores.std())"
      ],
      "metadata": {
        "id": "4Rp4VMm9Bvob",
        "colab": {
          "base_uri": "https://localhost:8080/"
        },
        "outputId": "d2093e39-0293-4425-cd49-f99ec32fbec4"
      },
      "execution_count": null,
      "outputs": [
        {
          "output_type": "stream",
          "name": "stdout",
          "text": [
            "Classification with Naive Bayes ...\n",
            "Cross-validated scores: [0.65 0.7  0.65 0.55 0.7 ]\n",
            "Cross-validated scores: 0.65 +- 0.05477225575051658\n"
          ]
        }
      ]
    },
    {
      "cell_type": "markdown",
      "source": [
        "Como podemos ver, os resultados para o Naive Bayes foram bem melhores. Foram testados varios parâmetros dos dois modelos de classificação para chegar ao melhor resultado.\n",
        "\n",
        "Para a Arvore de decisão chegamos a uma acurácia de 0.49, acredito que para imagens não é um resultado ruim, porém como conseguimos um resultado superior com o naive bayes, usaremos este como paramêtro para futuras melhorias no modelo.\n",
        "\n",
        "O melhor resultado, então, foi o naive bayes com 0.65 de acurácia, um resultado consideravelmente bom, mas sabemos que podemos melhorar em futuros projetos, neste nosso segmento sempre podemos aprimorar nossos resultados, com outros modelos, paramêtros ou mais dados."
      ],
      "metadata": {
        "id": "d6mW8i_FFQ45"
      }
    },
    {
      "cell_type": "markdown",
      "source": [
        "Para concluir, tivemos neste projeto a oportunidade de trabalhar com redes neurais, aprender como implementar acredito que seja o principal objetivo. Agora com mais pesquisas e mais experiência vamos aprimorando nosso conhecimento."
      ],
      "metadata": {
        "id": "6XwX6p7Uffn3"
      }
    }
  ]
}